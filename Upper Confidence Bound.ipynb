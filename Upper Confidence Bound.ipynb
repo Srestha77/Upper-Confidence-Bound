{
 "cells": [
  {
   "cell_type": "code",
   "execution_count": 1,
   "metadata": {},
   "outputs": [],
   "source": [
    "#Reinforcement Learning\n",
    "import pandas as pd\n",
    "import numpy as np\n",
    "import matplotlib.pyplot as plt\n",
    "import math"
   ]
  },
  {
   "cell_type": "code",
   "execution_count": 2,
   "metadata": {},
   "outputs": [],
   "source": [
    "#importing the dataset\n",
    "dataset=pd.read_csv(r'C:\\Users\\KIIT\\Downloads\\Ads_CTR_Optimisation.csv')"
   ]
  },
  {
   "cell_type": "code",
   "execution_count": 9,
   "metadata": {},
   "outputs": [],
   "source": [
    "#initialising the variables\n",
    "N=10000\n",
    "d=10\n",
    "ads_selected=[]\n",
    "numbers_of_selections=[0]*d\n",
    "sums_of_rewards=[0]*d\n",
    "total_reward=0\n",
    "#upper confidence bound\n",
    "for n in range(0, N):\n",
    "  ad = 0\n",
    "  max_upper_bound = 0\n",
    "  for i in range(0, d):\n",
    "    if (numbers_of_selections[i] > 0):\n",
    "      average_reward = sums_of_rewards[i] / numbers_of_selections[i]\n",
    "      delta_i = math.sqrt(3/2 * math.log(n + 1) / numbers_of_selections[i])\n",
    "      upper_bound = average_reward + delta_i\n",
    "    else:\n",
    "      upper_bound = 1e400\n",
    "    if (upper_bound > max_upper_bound):\n",
    "      max_upper_bound = upper_bound\n",
    "      ad = i\n",
    "  ads_selected.append(ad)\n",
    "  numbers_of_selections[ad] = numbers_of_selections[ad] + 1\n",
    "  reward = dataset.values[n, ad]\n",
    "  sums_of_rewards[ad] = sums_of_rewards[ad] + reward\n",
    "  total_reward = total_reward + reward\n",
    "            "
   ]
  },
  {
   "cell_type": "code",
   "execution_count": 10,
   "metadata": {},
   "outputs": [
    {
     "data": {
      "image/png": "[encoded data removed]",
      "text/plain": [
       "<Figure size 432x288 with 1 Axes>"
      ]
     },
     "metadata": {
      "needs_background": "light"
     },
     "output_type": "display_data"
    }
   ],
   "source": [
    "#visualising the histogram\n",
    "plt.hist(ads_selected)\n",
    "plt.title('HISTOGRAM FOR ADS SELECTION')\n",
    "plt.xlabel(\"ADS\")\n",
    "plt.ylabel(\"NO OF TIMES EACH AD WAS SELECTED\")\n",
    "plt.show()"
   ]
  },
  {
   "cell_type": "code",
   "execution_count": null,
   "metadata": {},
   "outputs": [],
   "source": []
  }
 ],
 "metadata": {
  "kernelspec": {
   "display_name": "Python 3",
   "language": "python",
   "name": "python3"
  },
  "language_info": {
   "codemirror_mode": {
    "name": "ipython",
    "version": 3
   },
   "file_extension": ".py",
   "mimetype": "text/x-python",
   "name": "python",
   "nbconvert_exporter": "python",
   "pygments_lexer": "ipython3",
   "version": "3.8.3"
  }
 },
 "nbformat": 4,
 "nbformat_minor": 4
}
